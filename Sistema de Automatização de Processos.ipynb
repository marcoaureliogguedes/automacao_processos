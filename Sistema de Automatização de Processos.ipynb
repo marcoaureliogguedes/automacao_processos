{
 "cells": [
  {
   "cell_type": "markdown",
   "metadata": {},
   "source": [
    "### Sistema de Automatização de Processos"
   ]
  },
  {
   "cell_type": "markdown",
   "metadata": {},
   "source": [
    "### Projeto passo a passo"
   ]
  },
  {
   "cell_type": "markdown",
   "metadata": {},
   "source": [
    "- Passo 1: Analisar e buscar as informções das ações das empresas de forma automática.\n",
    "- Passo 2: Criar as análises dos dados.\n",
    "- Passo 3: Envia um e-mail para o meu gestor com os resultados das análises."
   ]
  },
  {
   "cell_type": "markdown",
   "metadata": {},
   "source": [
    "### Passo 1: Analisar e buscar as informções das ações das empresas de forma automática."
   ]
  },
  {
   "cell_type": "code",
   "execution_count": null,
   "metadata": {},
   "outputs": [],
   "source": [
    "# instalando bibliotecas\n",
    "!pip install yfinance\n",
    "!pip install pyautogui\n",
    "!pip install pyperclip"
   ]
  },
  {
   "cell_type": "code",
   "execution_count": 1,
   "metadata": {},
   "outputs": [],
   "source": [
    "# importando biblioteca\n",
    "import yfinance as yf\n",
    "import pyautogui\n",
    "import pyperclip\n",
    "import time"
   ]
  },
  {
   "cell_type": "code",
   "execution_count": 2,
   "metadata": {},
   "outputs": [
    {
     "name": "stdout",
     "output_type": "stream",
     "text": [
      "Digite o código da ação: PETR4.SA\n"
     ]
    }
   ],
   "source": [
    "# armazenando dados em uma variável\n",
    "ticker = input(\"Digite o código da ação: \")\n",
    "dados_acoes = yf.Ticker(ticker).history(\"6mo\")"
   ]
  },
  {
   "cell_type": "code",
   "execution_count": 3,
   "metadata": {},
   "outputs": [
    {
     "data": {
      "text/html": [
       "<div>\n",
       "<style scoped>\n",
       "    .dataframe tbody tr th:only-of-type {\n",
       "        vertical-align: middle;\n",
       "    }\n",
       "\n",
       "    .dataframe tbody tr th {\n",
       "        vertical-align: top;\n",
       "    }\n",
       "\n",
       "    .dataframe thead th {\n",
       "        text-align: right;\n",
       "    }\n",
       "</style>\n",
       "<table border=\"1\" class=\"dataframe\">\n",
       "  <thead>\n",
       "    <tr style=\"text-align: right;\">\n",
       "      <th></th>\n",
       "      <th>Open</th>\n",
       "      <th>High</th>\n",
       "      <th>Low</th>\n",
       "      <th>Close</th>\n",
       "      <th>Volume</th>\n",
       "      <th>Dividends</th>\n",
       "      <th>Stock Splits</th>\n",
       "    </tr>\n",
       "    <tr>\n",
       "      <th>Date</th>\n",
       "      <th></th>\n",
       "      <th></th>\n",
       "      <th></th>\n",
       "      <th></th>\n",
       "      <th></th>\n",
       "      <th></th>\n",
       "      <th></th>\n",
       "    </tr>\n",
       "  </thead>\n",
       "  <tbody>\n",
       "    <tr>\n",
       "      <th>2023-03-01 00:00:00-03:00</th>\n",
       "      <td>20.365615</td>\n",
       "      <td>20.462174</td>\n",
       "      <td>19.464412</td>\n",
       "      <td>20.357569</td>\n",
       "      <td>109257700</td>\n",
       "      <td>0.0</td>\n",
       "      <td>0.0</td>\n",
       "    </tr>\n",
       "    <tr>\n",
       "      <th>2023-03-02 00:00:00-03:00</th>\n",
       "      <td>20.454127</td>\n",
       "      <td>20.655289</td>\n",
       "      <td>19.609248</td>\n",
       "      <td>19.826502</td>\n",
       "      <td>124516200</td>\n",
       "      <td>0.0</td>\n",
       "      <td>0.0</td>\n",
       "    </tr>\n",
       "    <tr>\n",
       "      <th>2023-03-03 00:00:00-03:00</th>\n",
       "      <td>19.979383</td>\n",
       "      <td>20.711611</td>\n",
       "      <td>19.673618</td>\n",
       "      <td>20.679426</td>\n",
       "      <td>87591800</td>\n",
       "      <td>0.0</td>\n",
       "      <td>0.0</td>\n",
       "    </tr>\n",
       "    <tr>\n",
       "      <th>2023-03-06 00:00:00-03:00</th>\n",
       "      <td>20.679429</td>\n",
       "      <td>21.017381</td>\n",
       "      <td>20.413895</td>\n",
       "      <td>20.888636</td>\n",
       "      <td>50227400</td>\n",
       "      <td>0.0</td>\n",
       "      <td>0.0</td>\n",
       "    </tr>\n",
       "    <tr>\n",
       "      <th>2023-03-07 00:00:00-03:00</th>\n",
       "      <td>20.695520</td>\n",
       "      <td>20.743800</td>\n",
       "      <td>20.059850</td>\n",
       "      <td>20.196640</td>\n",
       "      <td>59052500</td>\n",
       "      <td>0.0</td>\n",
       "      <td>0.0</td>\n",
       "    </tr>\n",
       "    <tr>\n",
       "      <th>...</th>\n",
       "      <td>...</td>\n",
       "      <td>...</td>\n",
       "      <td>...</td>\n",
       "      <td>...</td>\n",
       "      <td>...</td>\n",
       "      <td>...</td>\n",
       "      <td>...</td>\n",
       "    </tr>\n",
       "    <tr>\n",
       "      <th>2023-08-28 00:00:00-03:00</th>\n",
       "      <td>32.099998</td>\n",
       "      <td>32.340000</td>\n",
       "      <td>31.860001</td>\n",
       "      <td>32.330002</td>\n",
       "      <td>24956100</td>\n",
       "      <td>0.0</td>\n",
       "      <td>0.0</td>\n",
       "    </tr>\n",
       "    <tr>\n",
       "      <th>2023-08-29 00:00:00-03:00</th>\n",
       "      <td>32.400002</td>\n",
       "      <td>32.500000</td>\n",
       "      <td>31.990000</td>\n",
       "      <td>32.400002</td>\n",
       "      <td>40607500</td>\n",
       "      <td>0.0</td>\n",
       "      <td>0.0</td>\n",
       "    </tr>\n",
       "    <tr>\n",
       "      <th>2023-08-30 00:00:00-03:00</th>\n",
       "      <td>32.410000</td>\n",
       "      <td>32.700001</td>\n",
       "      <td>32.299999</td>\n",
       "      <td>32.619999</td>\n",
       "      <td>34637900</td>\n",
       "      <td>0.0</td>\n",
       "      <td>0.0</td>\n",
       "    </tr>\n",
       "    <tr>\n",
       "      <th>2023-08-31 00:00:00-03:00</th>\n",
       "      <td>32.709999</td>\n",
       "      <td>32.790001</td>\n",
       "      <td>31.879999</td>\n",
       "      <td>31.940001</td>\n",
       "      <td>48971500</td>\n",
       "      <td>0.0</td>\n",
       "      <td>0.0</td>\n",
       "    </tr>\n",
       "    <tr>\n",
       "      <th>2023-09-01 00:00:00-03:00</th>\n",
       "      <td>32.209999</td>\n",
       "      <td>32.689999</td>\n",
       "      <td>31.959999</td>\n",
       "      <td>32.630001</td>\n",
       "      <td>50089200</td>\n",
       "      <td>0.0</td>\n",
       "      <td>0.0</td>\n",
       "    </tr>\n",
       "  </tbody>\n",
       "</table>\n",
       "<p>129 rows × 7 columns</p>\n",
       "</div>"
      ],
      "text/plain": [
       "                                Open       High        Low      Close  \\\n",
       "Date                                                                    \n",
       "2023-03-01 00:00:00-03:00  20.365615  20.462174  19.464412  20.357569   \n",
       "2023-03-02 00:00:00-03:00  20.454127  20.655289  19.609248  19.826502   \n",
       "2023-03-03 00:00:00-03:00  19.979383  20.711611  19.673618  20.679426   \n",
       "2023-03-06 00:00:00-03:00  20.679429  21.017381  20.413895  20.888636   \n",
       "2023-03-07 00:00:00-03:00  20.695520  20.743800  20.059850  20.196640   \n",
       "...                              ...        ...        ...        ...   \n",
       "2023-08-28 00:00:00-03:00  32.099998  32.340000  31.860001  32.330002   \n",
       "2023-08-29 00:00:00-03:00  32.400002  32.500000  31.990000  32.400002   \n",
       "2023-08-30 00:00:00-03:00  32.410000  32.700001  32.299999  32.619999   \n",
       "2023-08-31 00:00:00-03:00  32.709999  32.790001  31.879999  31.940001   \n",
       "2023-09-01 00:00:00-03:00  32.209999  32.689999  31.959999  32.630001   \n",
       "\n",
       "                              Volume  Dividends  Stock Splits  \n",
       "Date                                                           \n",
       "2023-03-01 00:00:00-03:00  109257700        0.0           0.0  \n",
       "2023-03-02 00:00:00-03:00  124516200        0.0           0.0  \n",
       "2023-03-03 00:00:00-03:00   87591800        0.0           0.0  \n",
       "2023-03-06 00:00:00-03:00   50227400        0.0           0.0  \n",
       "2023-03-07 00:00:00-03:00   59052500        0.0           0.0  \n",
       "...                              ...        ...           ...  \n",
       "2023-08-28 00:00:00-03:00   24956100        0.0           0.0  \n",
       "2023-08-29 00:00:00-03:00   40607500        0.0           0.0  \n",
       "2023-08-30 00:00:00-03:00   34637900        0.0           0.0  \n",
       "2023-08-31 00:00:00-03:00   48971500        0.0           0.0  \n",
       "2023-09-01 00:00:00-03:00   50089200        0.0           0.0  \n",
       "\n",
       "[129 rows x 7 columns]"
      ]
     },
     "execution_count": 3,
     "metadata": {},
     "output_type": "execute_result"
    }
   ],
   "source": [
    "# visualizando os dados\n",
    "dados_acoes"
   ]
  },
  {
   "cell_type": "code",
   "execution_count": 4,
   "metadata": {},
   "outputs": [
    {
     "data": {
      "text/plain": [
       "Date\n",
       "2023-03-01 00:00:00-03:00    20.357569\n",
       "2023-03-02 00:00:00-03:00    19.826502\n",
       "2023-03-03 00:00:00-03:00    20.679426\n",
       "2023-03-06 00:00:00-03:00    20.888636\n",
       "2023-03-07 00:00:00-03:00    20.196640\n",
       "                               ...    \n",
       "2023-08-28 00:00:00-03:00    32.330002\n",
       "2023-08-29 00:00:00-03:00    32.400002\n",
       "2023-08-30 00:00:00-03:00    32.619999\n",
       "2023-08-31 00:00:00-03:00    31.940001\n",
       "2023-09-01 00:00:00-03:00    32.630001\n",
       "Name: Close, Length: 129, dtype: float64"
      ]
     },
     "execution_count": 4,
     "metadata": {},
     "output_type": "execute_result"
    }
   ],
   "source": [
    "# armazendando os dados da coluna de fechamento\n",
    "fechamento = dados_acoes.Close\n",
    "fechamento"
   ]
  },
  {
   "cell_type": "markdown",
   "metadata": {},
   "source": [
    "### Passo 2: Criar as análises dos dados."
   ]
  },
  {
   "cell_type": "markdown",
   "metadata": {},
   "source": [
    "- cotação máxima\n",
    "- cotação mínima\n",
    "- cotação atual"
   ]
  },
  {
   "cell_type": "code",
   "execution_count": 5,
   "metadata": {},
   "outputs": [
    {
     "data": {
      "text/plain": [
       "32.63"
      ]
     },
     "execution_count": 5,
     "metadata": {},
     "output_type": "execute_result"
    }
   ],
   "source": [
    "# cotação máxima\n",
    "cotacao_maxima = round(fechamento.max(), 2)\n",
    "cotacao_maxima"
   ]
  },
  {
   "cell_type": "code",
   "execution_count": 6,
   "metadata": {},
   "outputs": [
    {
     "data": {
      "text/plain": [
       "18.34"
      ]
     },
     "execution_count": 6,
     "metadata": {},
     "output_type": "execute_result"
    }
   ],
   "source": [
    "# cotação mínima\n",
    "cotacao_minima = round(fechamento.min(), 2)\n",
    "cotacao_minima"
   ]
  },
  {
   "cell_type": "code",
   "execution_count": 7,
   "metadata": {},
   "outputs": [
    {
     "data": {
      "text/plain": [
       "32.63"
      ]
     },
     "execution_count": 7,
     "metadata": {},
     "output_type": "execute_result"
    }
   ],
   "source": [
    "# trabalhando com o índice para pegar a cotação atual\n",
    "cotacao_atual = round(fechamento[-1], 2)\n",
    "cotacao_atual"
   ]
  },
  {
   "cell_type": "code",
   "execution_count": 8,
   "metadata": {},
   "outputs": [
    {
     "name": "stdout",
     "output_type": "stream",
     "text": [
      "A cotação máxima foi de: R$ 32.63\n",
      "A cotação mínima foi de: R$ 18.34\n",
      "A cotação atual foi de: R$ 32.63\n"
     ]
    }
   ],
   "source": [
    "# imprimindo as cotações com um texto\n",
    "print(f\"A cotação máxima foi de: R$ {cotacao_maxima}\")\n",
    "print(f\"A cotação mínima foi de: R$ {cotacao_minima}\")\n",
    "print(f\"A cotação atual foi de: R$ {cotacao_atual}\")"
   ]
  },
  {
   "cell_type": "markdown",
   "metadata": {},
   "source": [
    "### Passo 3: Envia um e-mail para o meu gestor com os resultados das análises."
   ]
  },
  {
   "cell_type": "markdown",
   "metadata": {},
   "source": [
    "- abrir uma nova aba no navegador, atalho (ctrl + t)\n",
    "- digitar o endereço do Gmail, Enter\n",
    "- clicar no botão \"Escrever\"\n",
    "- digitar o Destinatário, Tab\n",
    "- digitar o assunto, Tab\n",
    "- dititar a mensagem do E-mail"
   ]
  },
  {
   "cell_type": "code",
   "execution_count": null,
   "metadata": {},
   "outputs": [],
   "source": [
    "# Pausar o python\n",
    "pyautogui.PAUSE = 5\n",
    "\n",
    "# Passo 1 - Abrir uma nova aba no navegador com o atalho (ctrl + t)\n",
    "pyautogui.hotkey(\"ctrl\", \"t\")\n",
    "\n",
    "# Passo 2 - Digitar o endereço do gmail\n",
    "pyperclip.copy(\"www.gmail.com\")\n",
    "pyautogui.hotkey(\"ctrl\", \"v\")\n",
    "pyautogui.hotkey(\"enter\")\n",
    "\n",
    "# Passo 3 - Clicar no botão (Escrever)\n",
    "pyautogui.click(x=72, y=192)\n",
    "\n",
    "# Passo 4 - Digitar o destinatário e dar um TAB\n",
    "pyperclip.copy(\"mggaurelioguedes@gmail.com\")\n",
    "pyautogui.hotkey(\"ctrl\", \"v\")\n",
    "pyautogui.hotkey(\"tab\")\n",
    "\n",
    "# Passo 5 - Digitar o assunto e dar um TAB\n",
    "pyperclip.copy(\"Análises Diárias das Ações\")\n",
    "pyautogui.hotkey(\"ctrl\", \"v\")\n",
    "pyautogui.hotkey(\"tab\")\n",
    "\n",
    "# Passo 6 - Digitar a mensagem e e-mail\n",
    "mensagem = f\"\"\"\n",
    "Prezado Diretor,\n",
    "\n",
    "Seguem as análises, conforme solicitado, da ação {ticker} referente aos últimos 6 meses:\n",
    "\n",
    "Cotação máxima: R$ {cotacao_maxima}\n",
    "Cotação mínima: R$ {cotacao_minima}\n",
    "Cotação atual: R$ {cotacao_atual}\n",
    "\n",
    "Qualquer dúvida, estou à disposição.\n",
    "\n",
    "atenciosamente,\n",
    "\n",
    "Marco Guedes\n",
    "\n",
    "\"\"\"\n",
    "\n",
    "pyperclip.copy(mensagem)\n",
    "pyautogui.hotkey(\"ctrl\", \"v\")\n",
    "\n",
    "# Passo 7 - Clicar no botão de enviar\n",
    "pyautogui.click(x=888, y=688)"
   ]
  },
  {
   "cell_type": "code",
   "execution_count": null,
   "metadata": {},
   "outputs": [],
   "source": [
    "time.sleep(5)\n",
    "\n",
    "pyautogui.position()"
   ]
  },
  {
   "cell_type": "markdown",
   "metadata": {},
   "source": [
    "### FIM"
   ]
  }
 ],
 "metadata": {
  "kernelspec": {
   "display_name": "Python 3 (ipykernel)",
   "language": "python",
   "name": "python3"
  },
  "language_info": {
   "codemirror_mode": {
    "name": "ipython",
    "version": 3
   },
   "file_extension": ".py",
   "mimetype": "text/x-python",
   "name": "python",
   "nbconvert_exporter": "python",
   "pygments_lexer": "ipython3",
   "version": "3.11.4"
  }
 },
 "nbformat": 4,
 "nbformat_minor": 4
}
